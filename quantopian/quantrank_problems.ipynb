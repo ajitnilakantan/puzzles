{
  "cells": [
    {
      "cell_type": "markdown",
      "metadata": {
        "colab_type": "text",
        "id": "view-in-github"
      },
      "source": [
        "<a href=\"https://colab.research.google.com/gist/joshpayne/4733493f20f6cb54e20d3ee70ac452a2/quantrank_problems.ipynb\" target=\"_parent\"><img src=\"https://colab.research.google.com/assets/colab-badge.svg\" alt=\"Open In Colab\"/></a>"
      ]
    },
    {
      "cell_type": "code",
      "execution_count": 7,
      "metadata": {
        "id": "SNkxT9XOwBv4"
      },
      "outputs": [],
      "source": [
        "\n",
        "import numpy as np\n",
        "\n",
        "from scipy.optimize import minimize, brent\n",
        "\n",
        "from statsmodels.tsa.stattools import coint\n",
        "\n",
        "import pylab as plt\n",
        "\n",
        "from copy import deepcopy as copy\n"
      ]
    },
    {
      "cell_type": "code",
      "execution_count": 8,
      "metadata": {
        "colab": {
          "base_uri": "https://localhost:8080/"
        },
        "id": "cfBccaQIDS0R",
        "outputId": "1b4e90f6-89fd-4d4d-83a0-580741911a2c"
      },
      "outputs": [
        {
          "name": "stdout",
          "output_type": "stream",
          "text": [
            "x=0.1190, S=2.00\n"
          ]
        }
      ],
      "source": [
        "\"\"\"1) Generate a series with 1000 daily steps that has a Sharpe of 2+/-0.1\n",
        "\n",
        "Medium/Hard\n",
        "\"\"\"\n",
        "\n",
        "a = np.random.randn(1000)\n",
        "\n",
        "mu = np.mean(a)\n",
        "\n",
        "sigma = np.std(a)\n",
        "\n",
        "def f(x,S):\n",
        "\n",
        "    return np.abs(np.mean(a+x)/np.std(a+x)*16-S)\n",
        "\n",
        "x = brent(f,args=(2,))\n",
        "\n",
        "print(f'x={x:.4f}, S={np.mean(a+x)/np.std(a+x)*16:.2f}')"
      ]
    },
    {
      "cell_type": "code",
      "execution_count": 9,
      "metadata": {
        "colab": {
          "base_uri": "https://localhost:8080/"
        },
        "id": "Eh6Zmcb1DS3K",
        "outputId": "0123519a-a6f4-4fd1-eb3d-484268cc0531"
      },
      "outputs": [
        {
          "name": "stdout",
          "output_type": "stream",
          "text": [
            "Years: 78.0, Months: 11\n"
          ]
        }
      ],
      "source": [
        "\"\"\"\n",
        "\n",
        "2) You have an amazing trading strategy that consistently makes 2% per month.\n",
        "\n",
        "You start with $100 and take out $20 at the beginning of each new year. How\n",
        "\n",
        "long will it take to become a billionaire?\n",
        "\n",
        "Medium\n",
        "\n",
        "\"\"\"\n",
        "\n",
        "x0 = 100\n",
        "\n",
        "i = 0\n",
        "\n",
        "while x0<1e9:\n",
        "\n",
        "    x0*=1.02\n",
        "\n",
        "    if not i%12:\n",
        "\n",
        "        x0-=20\n",
        "\n",
        "    # print(i,x0)\n",
        "\n",
        "    i+=1\n",
        "\n",
        "print(f'Years: {np.floor(i/12)}, Months: {i%12}')"
      ]
    },
    {
      "cell_type": "code",
      "execution_count": 10,
      "metadata": {
        "colab": {
          "base_uri": "https://localhost:8080/"
        },
        "id": "lYjxDXRsDS81",
        "outputId": "7107b9ae-f98a-4feb-b862-f57cd6a3ddaf"
      },
      "outputs": [
        {
          "name": "stdout",
          "output_type": "stream",
          "text": [
            "Approximate probability of 10% DDWN over 100 days: 2.35%\n"
          ]
        }
      ],
      "source": [
        "\"\"\"\n",
        "\n",
        "3) You have a trading strategy with a Sharpe ratio of 1 and a daily vol of 1%.\n",
        "\n",
        "Calculate the approximate probability of having a drawdown over 10% over 100 days.\n",
        "\n",
        "Hard\n",
        "\n",
        "\"\"\"\n",
        "\n",
        "def f(x,S):\n",
        "\n",
        "    return np.abs(np.mean(a+x)/np.std(a+x)*16-S)\n",
        "\n",
        "cnt = 0\n",
        "\n",
        "N = 15000\n",
        "\n",
        "for i in range(N):\n",
        "\n",
        "    a = np.random.randn(100)*0.01\n",
        "\n",
        "    x = brent(f,args=(1,))\n",
        "\n",
        "    q = np.cumprod(1+a+x)\n",
        "\n",
        "    # plt.plot(q)\n",
        "\n",
        "    if any(q<0.9):\n",
        "\n",
        "        cnt+=1\n",
        "\n",
        "print(f'Approximate probability of 10% DDWN over 100 days: {cnt/N*100:.2f}%')"
      ]
    },
    {
      "cell_type": "code",
      "execution_count": 11,
      "metadata": {
        "colab": {
          "base_uri": "https://localhost:8080/",
          "height": 430
        },
        "id": "W47j4P_nDS_h",
        "outputId": "47d445ea-2776-449f-806c-3bdda159d926"
      },
      "outputs": [
        {
          "data": {
            "text/plain": [
              "<Figure size 640x480 with 1 Axes>"
            ]
          },
          "metadata": {},
          "output_type": "display_data"
        }
      ],
      "source": [
        "\"\"\"4) Which of these to return series has more profit potential, a or b?\n",
        "\n",
        "This is about figuring out that the one of the series has autocorrelation\n",
        "and the other does not.\n",
        "\n",
        "Medium\n",
        "\"\"\"\n",
        "\n",
        "a = np.random.randn(1000);\n",
        "\n",
        "b = -0.2*a[:-1] + a[1:];\n",
        "\n",
        "plt.plot(np.cumsum(np.sign(-a[:-1])*a[1:]),label='A');\n",
        "\n",
        "plt.plot(np.cumsum(np.sign(-b[:-1])*b[1:]),label='B');\n",
        "\n",
        "plt.legend()\n",
        "\n",
        "plt.show()"
      ]
    },
    {
      "cell_type": "code",
      "execution_count": 12,
      "metadata": {
        "colab": {
          "base_uri": "https://localhost:8080/",
          "height": 447
        },
        "id": "036nlOD0DTB3",
        "outputId": "72a3e026-10f4-4f66-8381-952400cb2447"
      },
      "outputs": [
        {
          "data": {
            "text/plain": [
              "<Figure size 640x480 with 1 Axes>"
            ]
          },
          "metadata": {},
          "output_type": "display_data"
        },
        {
          "name": "stdout",
          "output_type": "stream",
          "text": [
            "-10.473127138644246 -0.017535199063983948\n"
          ]
        }
      ],
      "source": [
        "\"\"\"5) Build two time series with <10% correlation and >99% cointegration\n",
        "\n",
        "The solution is simple but not obvious.\n",
        "\n",
        "Medium\n",
        "\"\"\"\n",
        "\n",
        "b = np.sign(np.sin(np.linspace(0,100,1000)))\n",
        "\n",
        "a = np.sin(np.linspace(0,20,1000))\n",
        "\n",
        "plt.plot(a,'r',b,'b'); plt.show()\n",
        "\n",
        "print(coint(a,b)[0], np.corrcoef(a,b)[0,1])"
      ]
    },
    {
      "cell_type": "code",
      "execution_count": 13,
      "metadata": {
        "colab": {
          "base_uri": "https://localhost:8080/"
        },
        "id": "byDxt4VLDTFa",
        "outputId": "8f48e59e-9dae-4541-dba0-827b01ea25d3"
      },
      "outputs": [
        {
          "name": "stdout",
          "output_type": "stream",
          "text": [
            "OOS Sharpe: 2.28\n"
          ]
        }
      ],
      "source": [
        "\"\"\"6) Given the time series bis, create a strategy with an OOS Sharpe larger than 2\n",
        "All we need to do is to trade AR(1).\n",
        "\n",
        "Medium\n",
        "\"\"\"\n",
        "\n",
        "np.random.seed(34)\n",
        "\n",
        "a = np.random.randn(1000);\n",
        "\n",
        "b = -0.2*a[:-1] + a[1:];\n",
        "\n",
        "R = np.sign(-b[:-1])*b[1:]  # THis is the stratgy\n",
        "\n",
        "bis = b[:600]\n",
        "\n",
        "Ros = R[600:].mean()/R[600:].std()*16\n",
        "\n",
        "print(f'OOS Sharpe: {Ros:.2f}')"
      ]
    },
    {
      "cell_type": "code",
      "execution_count": 14,
      "metadata": {
        "colab": {
          "base_uri": "https://localhost:8080/",
          "height": 447
        },
        "id": "Gj4B52MUDTLT",
        "outputId": "b9d96dd9-18df-41e4-9b89-b5db893148cc"
      },
      "outputs": [
        {
          "name": "stdout",
          "output_type": "stream",
          "text": [
            "Weights: [0.15, 0.85], S: 2.49\n"
          ]
        },
        {
          "data": {
            "text/plain": [
              "<Figure size 640x480 with 1 Axes>"
            ]
          },
          "metadata": {},
          "output_type": "display_data"
        }
      ],
      "source": [
        "\"\"\"7) Optimize this portfolio for the highest Sharpe ratio.\n",
        "\n",
        "Simple Mean/Var optimization.\n",
        "\n",
        "Medium\n",
        "\"\"\"\n",
        "\n",
        "def f(w,a,b):\n",
        "\n",
        "    R = w[0]*a+w[1]*b\n",
        "\n",
        "    S = np.mean(R)/np.std(R)*16\n",
        "\n",
        "    return -S\n",
        "\n",
        "np.random.seed(32)\n",
        "\n",
        "a = np.random.randn(1000)*0.02+0.001\n",
        "\n",
        "b = np.random.randn(1000)*0.005+0.001\n",
        "\n",
        "plt.plot(np.cumsum(a),'r',np.cumsum(b),'b')\n",
        "\n",
        "bnds = [(0,1),(0,1)]\n",
        "\n",
        "const = {'type':'eq','fun':lambda x: sum(x)-1}\n",
        "\n",
        "res = minimize(f,x0=[0.5,0.5],args=(a,b),bounds=bnds,constraints=const)\n",
        "\n",
        "print(f'Weights: [{res.x[0]:.2f}, {res.x[1]:.2f}], S: {-res.fun:.2f}')\n",
        "\n",
        "plt.plot(np.cumsum(a*res.x[0]+b*res.x[1]),c='k',lw=5)\n",
        "\n",
        "plt.show()"
      ]
    },
    {
      "cell_type": "code",
      "execution_count": 15,
      "metadata": {
        "colab": {
          "base_uri": "https://localhost:8080/"
        },
        "id": "Rgpw4E14DxcD",
        "outputId": "07f7c968-98a8-4f79-a741-1e191debf6e6"
      },
      "outputs": [
        {
          "name": "stdout",
          "output_type": "stream",
          "text": [
            "Prob of Loss after 100 days: 16%\n"
          ]
        }
      ],
      "source": [
        "\"\"\"8) We expect an average daily pnl of 1% and a daily std of 1%,\n",
        "\n",
        "What is the probability of having a negative pnl after 100 days\n",
        "\n",
        "Easy to Medium\n",
        "\"\"\"\n",
        "\n",
        "T = 100\n",
        "\n",
        "N = 100000\n",
        "\n",
        "a = np.random.randn(T,N)*0.01+0.001\n",
        "\n",
        "b = np.sum(a,axis=0)\n",
        "\n",
        "print(f'Prob of Loss after {T} days: {100*len(b[b<0])/N:.0f}%')"
      ]
    },
    {
      "cell_type": "code",
      "execution_count": 16,
      "metadata": {
        "colab": {
          "base_uri": "https://localhost:8080/",
          "height": 447
        },
        "id": "iOgo4dNpDxlL",
        "outputId": "dc7a48f8-0c58-4977-fdc2-ebd8f1d3088f"
      },
      "outputs": [
        {
          "data": {
            "text/plain": [
              "<Figure size 640x480 with 1 Axes>"
            ]
          },
          "metadata": {},
          "output_type": "display_data"
        },
        {
          "name": "stdout",
          "output_type": "stream",
          "text": [
            "Leverage: 3.239\n"
          ]
        }
      ],
      "source": [
        "\"\"\"9) What is the optimal leverage to maximize geometric growth for\n",
        "the given series\n",
        "\n",
        "Numerical Kelly optimization\n",
        "\n",
        "Medium\n",
        "\"\"\"\n",
        "\n",
        "def f(w,a):\n",
        "\n",
        "    return -np.prod(1+a*w)\n",
        "\n",
        "np.random.seed(33)\n",
        "\n",
        "a = np.random.randn(1000)*0.03+0.003\n",
        "\n",
        "plt.plot(np.cumprod(1+a*0.5)); plt.show()\n",
        "\n",
        "res = minimize(f, x0=0.1, args=(a,))\n",
        "\n",
        "print(f'Leverage: {res.x[0]:.3f}')"
      ]
    },
    {
      "cell_type": "code",
      "execution_count": 17,
      "metadata": {
        "colab": {
          "base_uri": "https://localhost:8080/",
          "height": 447
        },
        "id": "CUHCIoSBDxuT",
        "outputId": "7604bc41-760a-4ef7-ffa2-e69c852b60ae"
      },
      "outputs": [
        {
          "data": {
            "text/plain": [
              "<Figure size 640x480 with 1 Axes>"
            ]
          },
          "metadata": {},
          "output_type": "display_data"
        },
        {
          "name": "stdout",
          "output_type": "stream",
          "text": [
            "14.294833363434924 15.103496692351381 1.0565703221826255\n"
          ]
        }
      ],
      "source": [
        "\"\"\"\n",
        "\n",
        "10) We have a series of daily returns s. Build a series with hourly returns\n",
        "\n",
        "    (24hr day), that closely follows the daily returns and has a Sharpe within\n",
        "\n",
        "    10% of the daily series.\n",
        "\n",
        "This is about understanding data and sampling.\n",
        "\n",
        "Hard\n",
        "\"\"\"\n",
        "\n",
        "np.random.seed(23)\n",
        "\n",
        "s = np.random.randn(20)*0.01+0.01\n",
        "\n",
        "p = np.cumsum(s)\n",
        "\n",
        "c = np.zeros((len(s)-1)*24+1)\n",
        "\n",
        "c[::24]=s\n",
        "\n",
        "raw = copy(c)\n",
        "\n",
        "for i in range(10):\n",
        "\n",
        "    np.random.seed(None)\n",
        "\n",
        "    N = 250000\n",
        "\n",
        "    a = np.random.randn(24,N)*np.random.rand(24,N)*0.01/np.sqrt(11)\n",
        "\n",
        "    for i in range(1,len(s)):\n",
        "\n",
        "        idx = np.argmin(np.abs(sum(a)-(p[i]-p[i-1])))\n",
        "\n",
        "        c[24*(i-1)+1:24*i+1] = a[:,idx]\n",
        "\n",
        "    plt.plot(np.cumsum(c))\n",
        "\n",
        "\n",
        "plt.plot(np.arange(len(s))*24,np.cumsum(s),'ko',ms=10); plt.show()\n",
        "\n",
        "Sold = np.mean(s)/np.std(s)*16\n",
        "\n",
        "Snew = np.mean(c)/np.std(c)*np.sqrt(256*24)\n",
        "\n",
        "print(Sold, Snew, Snew/Sold)"
      ]
    },
    {
      "cell_type": "code",
      "execution_count": 18,
      "metadata": {
        "colab": {
          "base_uri": "https://localhost:8080/",
          "height": 447
        },
        "id": "DaP_hQR9wKI3",
        "outputId": "f8dbb02f-e24c-46a4-fef5-f0b0d99666ea"
      },
      "outputs": [
        {
          "data": {
            "text/plain": [
              "<Figure size 640x480 with 1 Axes>"
            ]
          },
          "metadata": {},
          "output_type": "display_data"
        },
        {
          "name": "stdout",
          "output_type": "stream",
          "text": [
            "1.5695800743937907 (65, 70)\n"
          ]
        }
      ],
      "source": [
        "\n",
        "\"\"\"\n",
        "11a) Find the optimum parameter combination for a moving average\n",
        "\n",
        "crossover strategy using numpy only. Each asset is equally weighted.\n",
        "\n",
        "Parameter optimization\n",
        "\n",
        "Medium\n",
        "\n",
        "\"\"\"\n",
        "\n",
        "np.random.seed(12)\n",
        "\n",
        "a = np.random.randn(1000,3);\n",
        "\n",
        "b = np.cumsum(1.6*a[:-1,:] + a[1:,:],axis=0);\n",
        "\n",
        "plt.plot(b); plt.show()\n",
        "\n",
        "def ma(x,win=20):\n",
        "\n",
        "    return np.convolve(x,np.ones(win))/win\n",
        "\n",
        "def MA(x,w):\n",
        "\n",
        "    return np.apply_along_axis(ma,arr=x,axis=0,win=w)[:x.shape[0],:]\n",
        "\n",
        "# plt.plot(MA(b,10))\n",
        "\n",
        "# plt.plot(MA(b,80))\n",
        "\n",
        "# plt.show()\n",
        "\n",
        "def backtest(b,w1,w2):\n",
        "\n",
        "    macross = np.sign(MA(b,w1)-MA(b,w2))\n",
        "\n",
        "    pnls = macross[:-1,:]*np.diff(b,axis=0)\n",
        "\n",
        "    pnl = np.sum(pnls,axis=1)\n",
        "\n",
        "    return np.mean(pnl)/np.std(pnl)*16\n",
        "\n",
        "\n",
        "res = {}\n",
        "\n",
        "for w1 in range(10,80):\n",
        "\n",
        "    for w2 in range(10,80):\n",
        "\n",
        "        if w1!=w2:\n",
        "\n",
        "            S = backtest(b,w1,w2)\n",
        "\n",
        "            res[(w1,w2)] = S\n",
        "\n",
        "best = max(res.values())\n",
        "\n",
        "params = [k for k in res if res[k]==best][0]\n",
        "\n",
        "print(best,params)"
      ]
    },
    {
      "cell_type": "code",
      "execution_count": 19,
      "metadata": {
        "colab": {
          "base_uri": "https://localhost:8080/"
        },
        "id": "4nFsXlxLEbRH",
        "outputId": "87eab689-0242-43b8-d5ee-68cc4ad752b7"
      },
      "outputs": [
        {
          "name": "stdout",
          "output_type": "stream",
          "text": [
            "Optimized S: 1.95\n"
          ]
        }
      ],
      "source": [
        "\"\"\"11b) optimize the portfolio of strategies\n",
        "\n",
        "\n",
        "Optimization of strategy portfolio\n",
        "\n",
        "Medium/Hard\n",
        "\"\"\"\n",
        "\n",
        "def raw_backtest(b,w1,w2):\n",
        "\n",
        "    macross = np.sign(MA(b,w1)-MA(b,w2))\n",
        "\n",
        "    pnls = macross[:-1,:]*np.diff(b,axis=0)\n",
        "\n",
        "    return pnls\n",
        "\n",
        "def f(w,pnls):\n",
        "\n",
        "    R = np.dot(pnls,w)\n",
        "\n",
        "    S = np.mean(R)/np.std(R)*16\n",
        "\n",
        "    return -S\n",
        "\n",
        "pnls = raw_backtest(b,*params)\n",
        "\n",
        "\n",
        "bnds = [(0,1) for _ in range(b.shape[1])]\n",
        "\n",
        "const = {'type':'eq','fun':lambda x: sum(x)-1}\n",
        "\n",
        "res = minimize(f,x0=np.ones(b.shape[1])/b.shape[1],args=(pnls),bounds=bnds,constraints=const)\n",
        "\n",
        "print(f'Optimized S: {-res.fun:.2f}')"
      ]
    },
    {
      "cell_type": "code",
      "execution_count": 20,
      "metadata": {
        "colab": {
          "base_uri": "https://localhost:8080/",
          "height": 519
        },
        "id": "DhVCTLAjEbkt",
        "outputId": "131d908b-47fa-47e7-90b1-bfafdb182e4b"
      },
      "outputs": [
        {
          "ename": "ModuleNotFoundError",
          "evalue": "No module named 'sklearn'",
          "output_type": "error",
          "traceback": [
            "Traceback \u001b[1;36m(most recent call last)\u001b[0m:\n",
            "\u001b[1;36m  Cell \u001b[1;32mIn[20], line 23\u001b[1;36m\n\u001b[1;33m    from sklearn.cluster import KMeans\u001b[1;36m\n",
            "\u001b[1;31mModuleNotFoundError\u001b[0m\u001b[1;31m:\u001b[0m No module named 'sklearn'\n"
          ]
        }
      ],
      "source": [
        "\"\"\"\n",
        "\n",
        "12) We ran some numerical tests and get the following point cloud\n",
        "\n",
        "as a result. The first two columns of q give the coordinates\n",
        "\n",
        "of the points and the next two columns hold the parameters that\n",
        "\n",
        "the function used to produce these points.\n",
        "\n",
        "We can see that there may be two overlapping domains in this\n",
        "\n",
        "dataset. Use sklearn to find the regression slopes for the two\n",
        "\n",
        "domains.\n",
        "\n",
        "This is about understanding and dealing with the structure of data\n",
        "\n",
        "Hard\n",
        "\n",
        "\"\"\"\n",
        "\n",
        "from sklearn.cluster import KMeans\n",
        "\n",
        "# Creating the dataset\n",
        "\n",
        "N = 5000\n",
        "\n",
        "x1=np.random.randn(N); y1=1.4*x1+np.random.randn(N)\n",
        "\n",
        "x2=np.random.randn(N); y2=-2.7*x2-np.random.randn(N)\n",
        "\n",
        "params1=(np.random.rand(N,2)*10000).astype(int)\n",
        "\n",
        "params2=(np.random.rand(N,2)*10000-15000).astype(int)\n",
        "\n",
        "plt.plot(x1,y1,'bo')\n",
        "\n",
        "plt.plot(x2,y2,'bo')\n",
        "\n",
        "plt.show()\n",
        "\n",
        "m1 = np.polyfit(x1,y1,1)\n",
        "\n",
        "m2 = np.polyfit(x2,y2,1)\n",
        "\n",
        "orig_slopes = [np.round(m1[0],3),np.round(m2[0],3)]\n",
        "\n",
        "pset1 = np.vstack([x1,y1,params1[:,0],params1[:,1]]).T\n",
        "\n",
        "pset2 = np.vstack([x2,y2,params2[:,0],params2[:,1]]).T\n",
        "\n",
        "q = np.vstack([pset1,pset2])\n",
        "\n",
        "np.random.shuffle(q)\n",
        "\n",
        "\n",
        "# solving the exercise\n",
        "\n",
        "model = KMeans(n_clusters=2)\n",
        "\n",
        "model.fit(q)\n",
        "\n",
        "labels = model.labels_\n",
        "\n",
        "ax=[]; bx=[]; ay=[]; by=[]\n",
        "\n",
        "for i,label in enumerate(labels):\n",
        "\n",
        "    if label==0:\n",
        "\n",
        "        # plt.plot(q[i,0],q[i,1],'ro')\n",
        "\n",
        "        ax.append(q[i,0])\n",
        "\n",
        "        ay.append(q[i,1])\n",
        "\n",
        "    else:\n",
        "\n",
        "        # plt.plot(q[i,0],q[i,1],'bo')\n",
        "\n",
        "        bx.append(q[i,0])\n",
        "\n",
        "        by.append(q[i,1])\n",
        "\n",
        "ma = np.polyfit(ax,ay,1)\n",
        "\n",
        "mb = np.polyfit(bx,by,1)\n",
        "\n",
        "slopes=[ma[0],mb[0]]\n",
        "\n",
        "print(f'Correct Solution for cluster 1: {np.round(slopes[0],3) in orig_slopes}')\n",
        "\n",
        "print(f'Correct Solution for cluster 2: {np.round(slopes[1],3) in orig_slopes}')"
      ]
    },
    {
      "cell_type": "code",
      "execution_count": null,
      "metadata": {
        "colab": {
          "base_uri": "https://localhost:8080/",
          "height": 519
        },
        "id": "jntAWksPxbNs",
        "outputId": "9cba4856-2794-43be-e008-905dcf74c62c"
      },
      "outputs": [],
      "source": [
        "'''13) An unknown function gives a poor linear fit. What can we do\n",
        "\n",
        "find a better way of fitting this function\n",
        "\n",
        "Using ranking to linearize data sets\n",
        "\n",
        "Easy to Medium\n",
        "'''\n",
        "\n",
        "from sklearn.linear_model import LinearRegression\n",
        "\n",
        "N = 500\n",
        "\n",
        "x = np.linspace(0,1,N)\n",
        "\n",
        "y = np.exp(-8/x)+np.random.randn(N)*0.000001\n",
        "\n",
        "plt.plot(x,y,'o')\n",
        "\n",
        "model = LinearRegression()\n",
        "\n",
        "model.fit(np.array([x]).T,y)\n",
        "\n",
        "R2_orig = model.score(np.array([x]).T,y)\n",
        "\n",
        "print(R2_orig)\n",
        "\n",
        "# Solving the problem\n",
        "\n",
        "model.fit(np.array([np.argsort(x)]).T,np.argsort(y))\n",
        "\n",
        "R2 = model.score(np.array([np.argsort(x)]).T,np.argsort(y))\n",
        "\n",
        "print(R2)\n",
        "\n",
        "print(f'Problem solved: {R2>R2_orig+0.05}')"
      ]
    },
    {
      "cell_type": "code",
      "execution_count": null,
      "metadata": {
        "colab": {
          "base_uri": "https://localhost:8080/"
        },
        "id": "tSrx2d_nE-FD",
        "outputId": "4cb6353d-e342-41d5-bd13-64278710482d"
      },
      "outputs": [],
      "source": [
        "\"\"\"\n",
        "14)\n",
        "An exotic derivative behaves like a call option with the exception that it automatically\n",
        "expires worthless if the close price drops below a certain barrier. Using MC, calculate\n",
        "the value of such an option with a strike of $100, a spot of 95$, an IV of 30% and\n",
        "a barrier of $92, with an expiry of 1year. The risk-free rate is assumed to be zero.\n",
        "(256 trading days per year)\n",
        "\"\"\"\n",
        "\n",
        "\"\"\"A) Vanilla Option - Medium\"\"\"\n",
        "spot = 95\n",
        "strike = 100\n",
        "IV = 0.25\n",
        "barrier = 90\n",
        "r = 0.16\n",
        "\n",
        "N = 700000\n",
        "\n",
        "\n",
        "\n",
        "daily_sigma = IV / np.sqrt(256)\n",
        "\n",
        "r_daily = (1+r)**(1.0/256)-1\n",
        "\n",
        "paths = np.random.randn(N,256)*daily_sigma\n",
        "\n",
        "prices = ((np.cumprod(1+paths, axis=1))*spot)\n",
        "\n",
        "final = prices[:,-1]\n",
        "\n",
        "vanilla_price = np.sum((final-strike)[final>strike])/N\n",
        "\n",
        "print(f'Vanilla Price: {vanilla_price:.4f}')\n",
        "\n",
        "\n",
        "\"\"\"B) Barrier option calcs - Medium\"\"\"\n",
        "\n",
        "\n",
        "itm_idxs = np.argwhere(final>strike)\n",
        "\n",
        "min_prices  = np.min(prices,axis=1)\n",
        "\n",
        "not_out_idxs = np.argwhere(min_prices>barrier)\n",
        "\n",
        "\n",
        "survivors = list(set(itm_idxs.flatten()).intersection(set(not_out_idxs.flatten())))\n",
        "\n",
        "barrier_price = np.sum((final-strike)[survivors])/N\n",
        "print(f'Barrier Price: {barrier_price:.2f}')\n",
        "\n",
        "analytic_solution = 7.39\n",
        "print(f'Solution within 1% of analytical: {np.abs(vanilla_price-analytic_solution)-1<0.01}')\n"
      ]
    },
    {
      "cell_type": "code",
      "execution_count": null,
      "metadata": {
        "colab": {
          "base_uri": "https://localhost:8080/"
        },
        "id": "JXgcDvxDSVf_",
        "outputId": "ff5f05a0-60c5-4f97-e5cb-a0b37f3544ab"
      },
      "outputs": [],
      "source": [
        "\"\"\"\n",
        "15)\n",
        "An exotic derivative behaves like a call option with the exception that it automatically\n",
        "expires worthless if the close price drops below a certain barrier. Using MC, calculate\n",
        "the value of such an option with a strike of $100, a spot of 95$, an IV of 30% and\n",
        "a barrier of $92, with an expiry of 1year. Now we include a non-zero risk-free rate of 5%.\n",
        "(256 trading days per year)\n",
        "\n",
        "Hard\n",
        "\"\"\"\n",
        "\n",
        "\"\"\"A) Vanilla Option\"\"\"\n",
        "spot = 95\n",
        "strike = 100\n",
        "IV = 0.25\n",
        "barrier = 90\n",
        "\n",
        "rf = 0.05\n",
        "\n",
        "N = 700000\n",
        "\n",
        "daily_sigma = IV / np.sqrt(256)\n",
        "\n",
        "r_daily = (1+rf)**(1.0/256)-1\n",
        "rx = np.cumprod(1+np.ones((N,256))*r_daily,axis=1)-1\n",
        "\n",
        "paths = np.random.randn(N,256)*daily_sigma\n",
        "\n",
        "prices = (((np.cumprod(1+paths, axis=1))+rx)*spot)\n",
        "\n",
        "final = prices[:,-1]\n",
        "\n",
        "vanilla_price = np.sum((final-strike)[final>strike])/N\n",
        "\n",
        "print(f'Vanilla Price: {vanilla_price:.4f}')\n",
        "\n",
        "\n",
        "\"\"\"B) Barrier option calcs\"\"\"\n",
        "\n",
        "\n",
        "itm_idxs = np.argwhere(final>strike)\n",
        "\n",
        "min_prices  = np.min(prices,axis=1)\n",
        "\n",
        "not_out_idxs = np.argwhere(min_prices>barrier)\n",
        "\n",
        "\n",
        "survivors = list(set(itm_idxs.flatten()).intersection(set(not_out_idxs.flatten())))\n",
        "\n",
        "barrier_price = np.sum((final-strike)[survivors])/N\n",
        "print(f'Barrier Price: {barrier_price:.2f}')\n",
        "\n",
        "analytic_solution = 9.38\n",
        "print(f'Solution within 1% of analytical: {np.abs(vanilla_price-analytic_solution)-1<0.01}')"
      ]
    },
    {
      "cell_type": "code",
      "execution_count": null,
      "metadata": {
        "colab": {
          "base_uri": "https://localhost:8080/",
          "height": 447
        },
        "id": "ZodrRyUwAnmW",
        "outputId": "e4b1c117-dff4-4850-e54e-64c22288421c"
      },
      "outputs": [],
      "source": [
        "\n",
        "\"\"\"\n",
        "16)\n",
        "\n",
        "Build a profitable strategy by ranking the normalized price levels of the given stocks each day\n",
        "\n",
        "and trade the top-5 and bottom-5. What is the sharpe ratio of the resulting strategy?\n",
        "\n",
        "\"\"\"\n",
        "\n",
        "np.random.seed(12)\n",
        "\n",
        "M = 20\n",
        "\n",
        "band = 5\n",
        "\n",
        "gamma = np.random.rand(M)\n",
        "\n",
        "r = np.random.randn(1001,M)\n",
        "\n",
        "r = r[:-1,:]*gamma + r[1:]\n",
        "\n",
        "p = np.cumsum(r,axis=0)\n",
        "\n",
        "p = p - np.mean(p,axis=0)\n",
        "\n",
        "plt.plot(p,alpha=0.5)\n",
        "\n",
        "ranks = np.argsort(p,axis=1)\n",
        "\n",
        "upranks = copy(ranks)\n",
        "\n",
        "upranks[upranks<M-band] = 0\n",
        "\n",
        "upranks = np.sign(upranks)\n",
        "\n",
        "uppnl = -np.sum(upranks[:-1,:]*r[1:,:],axis=1)\n",
        "\n",
        "plt.plot(np.cumsum(uppnl),lw=5,alpha=0.6)\n",
        "\n",
        "downranks = copy(ranks)\n",
        "\n",
        "downranks[downranks>band] = 0\n",
        "\n",
        "downranks = np.sign(downranks)\n",
        "\n",
        "downpnl = -np.sum(downranks[:-1,:]*r[1:,:],axis=1)\n",
        "\n",
        "plt.plot(np.cumsum(downpnl),lw=5,alpha=0.6)\n",
        "\n",
        "R = uppnl+downpnl\n",
        "\n",
        "plt.plot(np.cumsum(R/2),lw=5,c='k')\n",
        "\n",
        "S = np.mean(R)/np.std(R)*16\n",
        "\n",
        "print(f'Problem Solved: {np.round(S,2)==1.53}')"
      ]
    },
    {
      "cell_type": "code",
      "execution_count": null,
      "metadata": {
        "colab": {
          "base_uri": "https://localhost:8080/"
        },
        "id": "Ei0nhDbNRMSf",
        "outputId": "5b36584c-bc98-416e-ae13-2158739d7caa"
      },
      "outputs": [],
      "source": [
        "\"\"\"17) Given a Sharpe ratio of 2, what is the max expected drawdown for a 1000d period?\"\"\"\n",
        "\n",
        "q = []\n",
        "\n",
        "for _ in range(10000):\n",
        "\n",
        "    a = np.random.randn(1000)*0.01\n",
        "\n",
        "    mu = np.mean(a)\n",
        "\n",
        "    sigma = np.std(a)\n",
        "\n",
        "    def f(x,S):\n",
        "\n",
        "        return np.abs(np.mean(a+x)/np.std(a+x)*16-S)\n",
        "\n",
        "    x = brent(f,args=(2,))\n",
        "\n",
        "    q.append(x+a)\n",
        "\n",
        "cumpnls = np.cumprod(1+np.array(q).T,axis=0)\n",
        "\n",
        "maximums = np.maximum.accumulate(cumpnls,axis=0)\n",
        "\n",
        "av_max_ddwn = np.mean(np.max(maximums/cumpnls-1,axis=0))\n",
        "\n",
        "print(f'Aver Max DDWN: {av_max_ddwn*100:.2f}%')\n",
        "\n",
        "print(f'Problem Solved: {np.round(av_max_ddwn,2)==0.17}')\n",
        "\n",
        "\n"
      ]
    },
    {
      "cell_type": "code",
      "execution_count": null,
      "metadata": {
        "colab": {
          "base_uri": "https://localhost:8080/"
        },
        "id": "6XOwUx6PSZTs",
        "outputId": "615fc62c-5c72-4b79-a3ce-2ea72ea470c7"
      },
      "outputs": [],
      "source": [
        "\"\"\"18)\n",
        "For a strategy with expected Sharpe=1.0 and annual vol of 16%,\n",
        "\n",
        "how much income would the strategy generate if we maintain\n",
        "\n",
        "an annual strategy profit of 10%, (Sharpe is normally distributed with sigma=1)\"\"\"\n",
        "\n",
        "q = []\n",
        "\n",
        "for _ in range(10000):\n",
        "\n",
        "    a = np.random.randn(256)*0.01\n",
        "\n",
        "    mu = np.mean(a)\n",
        "\n",
        "    sigma = np.std(a)\n",
        "\n",
        "    def f(x,S):\n",
        "\n",
        "        return np.abs(np.mean(a+x)/np.std(a+x)*16-S)\n",
        "\n",
        "    x = brent(f,args=(np.random.randn()+1,))\n",
        "\n",
        "    q.append(x+a)\n",
        "\n",
        "pnls = np.prod(1+np.array(q).T,axis=0)\n",
        "\n",
        "print(f'Ann Income: {(np.mean(pnls-1)-0.1)*100:.2f}%')\n",
        "\n",
        "print(f'Problem Solved: {np.round((np.mean(pnls-1)-0.1),2)==0.07}')\n"
      ]
    },
    {
      "cell_type": "code",
      "execution_count": null,
      "metadata": {
        "colab": {
          "base_uri": "https://localhost:8080/"
        },
        "id": "XvuldtKpTGTz",
        "outputId": "965ad897-c2ff-45dc-9e59-308df6b27bac"
      },
      "outputs": [],
      "source": [
        "\"\"\"Subtract a value lambda from the off-diagonals of a matrix and leave the\n",
        "diagonals as they are without using loops (i.e. needs to be fast)\"\"\"\n",
        "\n",
        "mat = np.random.randn(7000,7000)\n",
        "lmbda = 0.1\n",
        "\n",
        "diag = np.eye(mat.shape[0])*(np.diag(mat))\n",
        "off_diag = (mat-diag)\n",
        "result = off_diag-lmbda+np.eye(mat.shape[0])*lmbda+diag\n",
        "assert(result[2134,347]==mat[2134,347]-0.1)\n",
        "assert(result[1865,1865]==mat[1865,1865])\n",
        "print('Problem Solved!')"
      ]
    },
    {
      "cell_type": "code",
      "execution_count": null,
      "metadata": {
        "colab": {
          "base_uri": "https://localhost:8080/"
        },
        "id": "4T9y6_dKTyrZ",
        "outputId": "fbc03e0c-6853-48a4-a915-efd5b594b08f"
      },
      "outputs": [],
      "source": [
        "\"\"\"\n",
        "n is an integer that represents different market states.\n",
        "Calculate the transition probabilities between different states in a state vector\n",
        "l and put the probabilities in a NxN matrix where N is the number of unique states.\n",
        "\"\"\"\n",
        "\n",
        "l = np.random.randint(0,3,1000)\n",
        "l[999]=3\n",
        "q = np.unique(l)\n",
        "m = np.zeros((len(q),len(q)))\n",
        "for i in range(1,len(l)):\n",
        "  m[l[i-1],l[i]]+=1\n",
        "result  = m/(len(l)-1)\n",
        "assert(sum(result[3,:])==0)\n",
        "print('Problem Solved!')"
      ]
    },
    {
      "cell_type": "code",
      "execution_count": null,
      "metadata": {
        "colab": {
          "base_uri": "https://localhost:8080/"
        },
        "id": "ZOk88YWhaY0t",
        "outputId": "666f0a28-a1cf-4a84-9018-e56e0fb8188e"
      },
      "outputs": [],
      "source": [
        "\"\"\"Given an array of daily returns for N trading strategies, find the average drawdown period (no Pandas allowed)\n",
        "Run in less than 10ms for extra brownie points.\n",
        "\"\"\"\n",
        "np.random.seed(16)\n",
        "def dd_len(r):\n",
        "  p = np.cumsum(r,axis=0)\n",
        "  rmax = np.maximum.accumulate(p)\n",
        "  # plt.plot(p)\n",
        "  # plt.plot(rmax)\n",
        "  ddwn = rmax-p\n",
        "  # plt.plot(ddwn)\n",
        "  diffs = np.sign(ddwn)\n",
        "  diffdiff = np.diff(diffs,axis=0)\n",
        "  n_ddwns = np.ceil(np.sum(np.abs(diffdiff)/2,axis=0))\n",
        "  return np.mean(np.sum(diffs,axis=0)/n_ddwns)\n",
        "\n",
        "def test():\n",
        "  r = np.zeros((1000,2))\n",
        "  r[30,0]=-1; r[70,0]=1; r[130,0]=-1; r[180,0]=1\n",
        "  r[60,1]=-1; r[120,1]=1; r[130,1]=-1; r[140,1]=1\n",
        "  assert(dd_len(r)==40)\n",
        "  print('Test passed!')\n",
        "\n",
        "test()\n",
        "\n",
        "r = np.random.randn(1000,200)\n",
        "res = dd_len(r)\n",
        "%timeit dd_len(r)\n",
        "assert(np.round(res,2)==108.72)\n",
        "print('Problem Solved!')"
      ]
    },
    {
      "cell_type": "code",
      "execution_count": null,
      "metadata": {
        "colab": {
          "base_uri": "https://localhost:8080/",
          "height": 469
        },
        "id": "9vWCWOMOYNpG",
        "outputId": "63a2740f-e459-479a-e86e-da5bb20ad8a7"
      },
      "outputs": [],
      "source": [
        "\"\"\"\n",
        "Find the time between the minima of the two largest drawdowns.\n",
        "Note, a drawdown is defined as the time between two break-even points.\n",
        "\"\"\"\n",
        "\n",
        "np.random.seed(27)\n",
        "r = np.random.randn(5000,2)\n",
        "p = np.cumsum(r,axis=0)\n",
        "rmax = np.maximum.accumulate(p)\n",
        "# plt.plot(p)\n",
        "\n",
        "ddwn = rmax-p\n",
        "plt.plot(ddwn)\n",
        "# plt.grid()\n",
        "\n",
        "a=np.argsort(ddwn,axis=0).argsort(axis=0)\n",
        "b=np.sign(ddwn)\n",
        "c = np.argsort(ddwn,axis=0)\n",
        "# find the two largest indices with a zero in-between\n",
        "# plt.plot(a*b)\n",
        "for j in range(r.shape[1]):\n",
        "  for i in range(2,len(ddwn)):\n",
        "    k = min(ddwn[min([c[-1,j],c[-i,j]]):max([c[-1,j],c[-i,j]])][:,j])\n",
        "    if k==0:\n",
        "      break\n",
        "\n",
        "  print(np.abs(c[-1,j]-c[-i,j]))"
      ]
    },
    {
      "cell_type": "code",
      "execution_count": null,
      "metadata": {
        "colab": {
          "base_uri": "https://localhost:8080/"
        },
        "id": "hsEdG6DXiN43",
        "outputId": "dc405c93-28c6-4d16-b295-c90a51655fb3"
      },
      "outputs": [],
      "source": [
        "\n",
        "for j in range(ddwn.shape[1]):\n",
        "  ddwns = []\n",
        "  t = []\n",
        "  dd = 0\n",
        "  for i,d in enumerate(ddwn[1:,j]):\n",
        "    if d>dd:\n",
        "      dd = d\n",
        "      # print(dd)\n",
        "\n",
        "    if ((d==0) or i==ddwn.shape[0]) and ddwn[i-1,j]>0:\n",
        "      # print('--->',dd)\n",
        "      ddwns.append(dd)\n",
        "      t.append(i)\n",
        "      dd = 0\n",
        "  # print(ddwns)\n",
        "  idx = np.argsort(ddwns)[-2:]\n",
        "  dist = np.abs(np.diff(np.array(t)[idx]))\n",
        "  print(dist)"
      ]
    },
    {
      "cell_type": "code",
      "execution_count": null,
      "metadata": {
        "colab": {
          "base_uri": "https://localhost:8080/",
          "height": 469
        },
        "id": "ndV0Srdmkecu",
        "outputId": "2ae0546a-4473-47f4-9c64-edb3d34de758"
      },
      "outputs": [],
      "source": [
        "plt.plot(ddwn)\n"
      ]
    },
    {
      "cell_type": "code",
      "execution_count": null,
      "metadata": {
        "colab": {
          "base_uri": "https://localhost:8080/",
          "height": 36
        },
        "id": "3SWX96_R_mON",
        "outputId": "d979639c-8441-4ce2-d394-c0d0c80d5b85"
      },
      "outputs": [],
      "source": [
        "\"\"\"Given a surface, how many steps is the shortest distance from the origin to\n",
        "the highest point?\"\"\""
      ]
    },
    {
      "cell_type": "code",
      "execution_count": null,
      "metadata": {
        "id": "7NFKlH66aMfh"
      },
      "outputs": [],
      "source": []
    }
  ],
  "metadata": {
    "colab": {
      "include_colab_link": true,
      "provenance": []
    },
    "kernelspec": {
      "display_name": ".venv",
      "language": "python",
      "name": "python3"
    },
    "language_info": {
      "codemirror_mode": {
        "name": "ipython",
        "version": 3
      },
      "file_extension": ".py",
      "mimetype": "text/x-python",
      "name": "python",
      "nbconvert_exporter": "python",
      "pygments_lexer": "ipython3",
      "version": "3.13.2"
    }
  },
  "nbformat": 4,
  "nbformat_minor": 0
}
